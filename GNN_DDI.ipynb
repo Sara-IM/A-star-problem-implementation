{
  "nbformat": 4,
  "nbformat_minor": 0,
  "metadata": {
    "colab": {
      "provenance": [],
      "authorship_tag": "ABX9TyPwFYMkpsvROXexn1MmbbUj",
      "include_colab_link": true
    },
    "kernelspec": {
      "name": "python3",
      "display_name": "Python 3"
    },
    "language_info": {
      "name": "python"
    },
    "accelerator": "GPU",
    "gpuClass": "standard"
  },
  "cells": [
    {
      "cell_type": "markdown",
      "metadata": {
        "id": "view-in-github",
        "colab_type": "text"
      },
      "source": [
        "<a href=\"https://colab.research.google.com/github/Sara-IM/AI-Based-Network-Control-Plan-Algorithm/blob/main/GNN_DDI.ipynb\" target=\"_parent\"><img src=\"https://colab.research.google.com/assets/colab-badge.svg\" alt=\"Open In Colab\"/></a>"
      ]
    },
    {
      "cell_type": "code",
      "execution_count": 2,
      "metadata": {
        "colab": {
          "base_uri": "https://localhost:8080/"
        },
        "id": "pwfrLxMiwLr1",
        "outputId": "49f759a1-8621-4760-98d0-2e346163cec3"
      },
      "outputs": [
        {
          "output_type": "stream",
          "name": "stdout",
          "text": [
            "Cloning into 'GNN_DDI'...\n",
            "remote: Enumerating objects: 44, done.\u001b[K\n",
            "remote: Counting objects: 100% (44/44), done.\u001b[K\n",
            "remote: Compressing objects: 100% (41/41), done.\u001b[K\n",
            "remote: Total 44 (delta 4), reused 0 (delta 0), pack-reused 0\u001b[K\n",
            "Unpacking objects: 100% (44/44), done.\n"
          ]
        }
      ],
      "source": [
        "!git clone https://github.com/Mohammad-Hussain95/GNN_DDI.git"
      ]
    },
    {
      "cell_type": "code",
      "source": [],
      "metadata": {
        "colab": {
          "base_uri": "https://localhost:8080/"
        },
        "id": "PDrBxvUwxQio",
        "outputId": "42394798-f864-4c93-c50b-e47ad9dde1ef"
      },
      "execution_count": null,
      "outputs": [
        {
          "output_type": "stream",
          "name": "stdout",
          "text": [
            "/content/GNN_DDI\n"
          ]
        }
      ]
    },
    {
      "cell_type": "code",
      "source": [
        "! python prepare.py"
      ],
      "metadata": {
        "colab": {
          "base_uri": "https://localhost:8080/"
        },
        "id": "B7MTvZO1xdnR",
        "outputId": "2a1eb1dc-eff4-49fb-84e5-2d2af2955282"
      },
      "execution_count": null,
      "outputs": [
        {
          "output_type": "stream",
          "name": "stdout",
          "text": [
            "Tables :  []\n",
            "drug :  []\n",
            "event :  []\n",
            "Traceback (most recent call last):\n",
            "  File \"prepare.py\", line 23, in <module>\n",
            "    cursor. execute(\"SELECT COUNT(*) FROM event\") # [('index',), ('id',), ('target',), ('enzyme',), ('pathway',), ('smile',), ('name',)]\n",
            "sqlite3.OperationalError: no such table: event\n"
          ]
        }
      ]
    },
    {
      "cell_type": "code",
      "source": [
        "! python prepare.py"
      ],
      "metadata": {
        "colab": {
          "base_uri": "https://localhost:8080/"
        },
        "id": "juJlPKoSxcfy",
        "outputId": "1c28ae23-be88-4972-d68d-8deeef7686a0"
      },
      "execution_count": null,
      "outputs": [
        {
          "output_type": "stream",
          "name": "stdout",
          "text": [
            "Tables :  [('event_number',), ('event',), ('drug',), ('extraction',)]\n",
            "drug :  [('index',), ('id',), ('target',), ('enzyme',), ('pathway',), ('smile',), ('name',)]\n",
            "event :  [('index',), ('id1',), ('name1',), ('id2',), ('name2',), ('interaction',)]\n",
            "event row COUNT:  [(37264,)]\n",
            "0    P14780|Q00653|P01375|P01579|P33673\n",
            "1                                Q02641\n",
            "Name: target, dtype: object\n",
            "   index  ...          name\n",
            "0      0  ...   Glucosamine\n",
            "1      1  ...  Azelnidipine\n",
            "\n",
            "[2 rows x 7 columns]\n",
            "/usr/local/lib/python3.8/dist-packages/sklearn/utils/validation.py:593: FutureWarning: np.matrix usage is deprecated in 1.0 and will raise a TypeError in 1.2. Please convert to a numpy array with np.asarray. For more information see: https://numpy.org/doc/stable/reference/generated/numpy.matrix.html\n",
            "  warnings.warn(\n",
            "/usr/local/lib/python3.8/dist-packages/sklearn/utils/validation.py:593: FutureWarning: np.matrix usage is deprecated in 1.0 and will raise a TypeError in 1.2. Please convert to a numpy array with np.asarray. For more information see: https://numpy.org/doc/stable/reference/generated/numpy.matrix.html\n",
            "  warnings.warn(\n",
            "target_PCA\n",
            "(572, 572)\n",
            "/usr/local/lib/python3.8/dist-packages/sklearn/utils/validation.py:593: FutureWarning: np.matrix usage is deprecated in 1.0 and will raise a TypeError in 1.2. Please convert to a numpy array with np.asarray. For more information see: https://numpy.org/doc/stable/reference/generated/numpy.matrix.html\n",
            "  warnings.warn(\n",
            "/usr/local/lib/python3.8/dist-packages/sklearn/utils/validation.py:593: FutureWarning: np.matrix usage is deprecated in 1.0 and will raise a TypeError in 1.2. Please convert to a numpy array with np.asarray. For more information see: https://numpy.org/doc/stable/reference/generated/numpy.matrix.html\n",
            "  warnings.warn(\n",
            "enzyme_PCA\n",
            "(572, 572)\n",
            "/usr/local/lib/python3.8/dist-packages/sklearn/utils/validation.py:593: FutureWarning: np.matrix usage is deprecated in 1.0 and will raise a TypeError in 1.2. Please convert to a numpy array with np.asarray. For more information see: https://numpy.org/doc/stable/reference/generated/numpy.matrix.html\n",
            "  warnings.warn(\n",
            "/usr/local/lib/python3.8/dist-packages/sklearn/utils/validation.py:593: FutureWarning: np.matrix usage is deprecated in 1.0 and will raise a TypeError in 1.2. Please convert to a numpy array with np.asarray. For more information see: https://numpy.org/doc/stable/reference/generated/numpy.matrix.html\n",
            "  warnings.warn(\n",
            "pathway_PCA\n",
            "(572, 572)\n",
            "/usr/local/lib/python3.8/dist-packages/sklearn/utils/validation.py:593: FutureWarning: np.matrix usage is deprecated in 1.0 and will raise a TypeError in 1.2. Please convert to a numpy array with np.asarray. For more information see: https://numpy.org/doc/stable/reference/generated/numpy.matrix.html\n",
            "  warnings.warn(\n",
            "/usr/local/lib/python3.8/dist-packages/sklearn/utils/validation.py:593: FutureWarning: np.matrix usage is deprecated in 1.0 and will raise a TypeError in 1.2. Please convert to a numpy array with np.asarray. For more information see: https://numpy.org/doc/stable/reference/generated/numpy.matrix.html\n",
            "  warnings.warn(\n",
            "smile_PCA\n",
            "(572, 572)\n",
            "there are  570  drugs have connaction out of 572\n",
            "there are  2  drugs without connaction out of 572\n",
            "start callcolate combinations ... \n",
            "all pairs :  162165\n",
            "pairs_false generating : 100% 162165/162165 [00:08<00:00, 18633.33it/s]\n",
            "all_neg generating : 100% 124901/124901 [00:07<00:00, 16055.27it/s]\n",
            "all_neg.shape :  (37264, 2) all_pos.shape :  (37264, 2)\n",
            " 44% 4/9 [00:05<00:08,  1.66s/it]572 573\n",
            " 89% 8/9 [00:05<00:00,  1.73it/s]\n",
            "################# DDI copmleted ##################\n",
            "################# featuers copmleted ##################\n",
            "100% 9/9 [00:05<00:00,  1.75it/s]\n",
            "(7474, 4) (5599, 4) (24191, 4) [  0 541 280   1] [  0 441 518   1]\n",
            " event >> valid : test >> whate events in valid : whate events in test \n",
            "166  >>    0  :  2  >>  []  :  [1]  >>    []  :  [[1, 531, 166, 1], [1, 166, 136, 1]]\n",
            "336  >>    0  :  0  >>  []  :  []  >>    []  :  []\n",
            "376  >>    0  :  0  >>  []  :  []  >>    []  :  []\n",
            "447  >>    0  :  1  >>  []  :  [4]  >>    []  :  [[4, 304, 447, 1]]\n",
            "557  >>    0  :  2  >>  []  :  [1]  >>    []  :  [[1, 531, 557, 1], [1, 557, 136, 1]]\n",
            " missing sample in train :  [[1, 531, 166, 1], [1, 166, 136, 1], [4, 304, 447, 1], [1, 531, 557, 1], [1, 557, 136, 1]]\n",
            " event >> test : valid\n",
            "336  >>    0  :  0\n",
            "376  >>    0  :  0\n",
            "Figure(640x480)\n",
            "(24191, 3)\n",
            "[9810, 9496, 5646, 2386, 1312, 1132, 7482]  | sum :  37264  all :  37264 \n",
            " [26.3, 25.5, 15.2, 6.4, 3.5, 3.0, 20.1]  |  100.0\n",
            "(5, 4) [[  1 531 166   1]\n",
            " [  1 166 136   1]\n",
            " [  4 304 447   1]\n",
            " [  1 531 557   1]\n",
            " [  1 557 136   1]]\n",
            "(24196, 3) [  1 557 136]\n",
            "572 573 (572, 573)\n",
            "(572, 573)\n",
            "(572, 573)\n",
            "(572, 573)\n",
            "(572, 573)\n"
          ]
        }
      ]
    },
    {
      "cell_type": "code",
      "source": [
        "!python \"/content/GNN_DDI/GNN/main.py\" --input \"/content/GNN_DDI/DDI/data5\" --features \"/content/GNN_DDI/DDI/data5/featuers_m1.txt\" --epoch 1 --dimensions 32\n"
      ],
      "metadata": {
        "colab": {
          "base_uri": "https://localhost:8080/"
        },
        "id": "HKSVmg49DX1z",
        "outputId": "c3e39bf5-fee0-441a-d554-151036256988"
      },
      "execution_count": null,
      "outputs": [
        {
          "output_type": "stream",
          "name": "stdout",
          "text": [
            "python3: can't open file '/content/GNN_DDI/GNN/main.py': [Errno 2] No such file or directory\n"
          ]
        }
      ]
    }
  ]
}